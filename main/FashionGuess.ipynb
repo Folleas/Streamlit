{
 "cells": [
  {
   "cell_type": "code",
   "execution_count": 6,
   "id": "d8668a5a",
   "metadata": {},
   "outputs": [
    {
     "name": "stdout",
     "output_type": "stream",
     "text": [
      "Epoch 1/3\n",
      "1875/1875 [==============================] - 4s 2ms/step - loss: 0.4814 - accuracy: 0.8239\n",
      "Epoch 2/3\n",
      "1875/1875 [==============================] - 3s 2ms/step - loss: 0.3544 - accuracy: 0.8697\n",
      "Epoch 3/3\n",
      "1875/1875 [==============================] - 3s 2ms/step - loss: 0.3175 - accuracy: 0.8817\n"
     ]
    },
    {
     "data": {
      "text/plain": [
       "<keras.callbacks.History at 0x1d7c4d40c88>"
      ]
     },
     "execution_count": 6,
     "metadata": {},
     "output_type": "execute_result"
    }
   ],
   "source": [
    "import tensorflow as tf\n",
    "\n",
    "fmnist = tf.keras.datasets.fashion_mnist #28*28 images of hand-written digits 0-9\n",
    "\n",
    "(x_train, y_train), (x_test, y_test) = fmnist.load_data()\n",
    "\n",
    "#We normalize because apparently it has huge effects on the model\n",
    "x_train = tf.keras.utils.normalize(x_train, axis=1)\n",
    "x_test = tf.keras.utils.normalize(x_test, axis=1)\n",
    "\n",
    "#We flatten the data to \n",
    "model = tf.keras.models.Sequential()\n",
    "model.add(tf.keras.layers.Flatten())\n",
    "\n",
    "#relu = rectified linear // apparently go to activation function, tweak this to have different outcome\n",
    "model.add(tf.keras.layers.Dense(136, activation=tf.nn.relu))\n",
    "model.add(tf.keras.layers.Dense(136, activation=tf.nn.relu))\n",
    "\n",
    "#Output layer, still a dense layer but it need as many units in the layer as categories we are treating. for us it's 10 categories\n",
    "#also we use softmax for the activation function because it's used when dealing with probably distribution\n",
    "model.add(tf.keras.layers.Dense(10, activation=tf.nn.softmax))\n",
    "\n",
    "\n",
    "#adam optimizer is the default go to apparently\n",
    "#loss is degree of error, we have to minimise loss. loss is an important metric when optimising the model\n",
    "#many ways of calculating loss, categorical crossentropy seems to be used a lot. we use sparse here because it saves time in memory and computation compared to the classic one. when dealing with binary problems like telling cats and dogs appart we would have used binary_categorical_crossentropy\n",
    "model.compile(optimizer='adam',\n",
    "             loss='sparse_categorical_crossentropy',\n",
    "               metrics=['accuracy'])\n",
    "\n",
    "#1 epochs = training the neural network with all the data for one cycle\n",
    "model.fit(x_train, y_train, epochs=3)"
   ]
  },
  {
   "cell_type": "code",
   "execution_count": 7,
   "id": "b361b111",
   "metadata": {},
   "outputs": [
    {
     "name": "stdout",
     "output_type": "stream",
     "text": [
      "313/313 [==============================] - 1s 2ms/step - loss: 0.3663 - accuracy: 0.8668\n",
      "0.3663046956062317 0.8668000102043152\n"
     ]
    }
   ],
   "source": [
    "#watch out for overfit, we have to check the validation loss and validation accuracy\n",
    "val_loss, val_acc = model.evaluate(x_test, y_test)\n",
    "print(val_loss, val_acc)"
   ]
  },
  {
   "cell_type": "code",
   "execution_count": 8,
   "id": "4febbbb1",
   "metadata": {},
   "outputs": [
    {
     "data": {
      "image/png": "[encoded data removed]",
      "text/plain": [
       "<Figure size 432x288 with 1 Axes>"
      ]
     },
     "metadata": {
      "needs_background": "light"
     },
     "output_type": "display_data"
    },
    {
     "name": "stdout",
     "output_type": "stream",
     "text": [
      "[[0.         0.         0.         0.         0.         0.\n",
      "  0.         0.         0.         0.         0.         0.\n",
      "  0.         0.         0.         0.         0.         0.\n",
      "  0.         0.         0.         0.         0.         0.\n",
      "  0.         0.         0.         0.        ]\n",
      " [0.         0.         0.         0.         0.         0.\n",
      "  0.         0.         0.         0.         0.         0.\n",
      "  0.         0.         0.         0.         0.         0.\n",
      "  0.         0.         0.         0.         0.         0.\n",
      "  0.         0.         0.         0.        ]\n",
      " [0.         0.         0.         0.         0.         0.\n",
      "  0.         0.         0.         0.         0.         0.\n",
      "  0.         0.         0.         0.         0.         0.\n",
      "  0.         0.         0.         0.         0.         0.\n",
      "  0.         0.         0.         0.        ]\n",
      " [0.         0.         0.         0.         0.         0.\n",
      "  0.         0.         0.         0.         0.         0.\n",
      "  0.00135942 0.         0.         0.0135775  0.07675477 0.\n",
      "  0.         0.00108359 0.00452712 0.         0.         0.\n",
      "  0.         0.00112628 0.00124281 0.        ]\n",
      " [0.         0.         0.         0.         0.         0.\n",
      "  0.         0.         0.         0.         0.         0.\n",
      "  0.00407827 0.         0.0393841  0.14204153 0.13353227 0.06706289\n",
      "  0.05944322 0.         0.         0.         0.00114334 0.00349231\n",
      "  0.00461146 0.         0.         0.01550248]\n",
      " [0.         0.         0.         0.         0.         0.\n",
      "  0.         0.         0.         0.         0.         0.\n",
      "  0.00815655 0.         0.11158829 0.2130623  0.18505259 0.14494239\n",
      "  0.15851525 0.13328144 0.02603093 0.         0.         0.\n",
      "  0.         0.01351531 0.01242807 0.        ]\n",
      " [0.         0.         0.         0.         0.         0.\n",
      "  0.         0.         0.         0.         0.         0.\n",
      "  0.         0.         0.16957044 0.24648383 0.21764709 0.19253541\n",
      "  0.11778563 0.16903988 0.18221649 0.12429049 0.07317407 0.02677434\n",
      "  0.08877055 0.14641589 0.08948208 0.07751239]\n",
      " [0.         0.         0.         0.         0.         0.\n",
      "  0.         0.         0.         0.         0.         0.00148028\n",
      "  0.         0.08043127 0.22645859 0.23290633 0.22921287 0.23363847\n",
      "  0.23777287 0.176625   0.14373599 0.13797385 0.13948807 0.16995886\n",
      "  0.16255387 0.0991123  0.21376275 0.34105453]\n",
      " [0.         0.         0.         0.         0.         0.\n",
      "  0.         0.         0.         0.00158012 0.00154801 0.00148028\n",
      "  0.         0.23313412 0.25380866 0.24230614 0.2449844  0.24770005\n",
      "  0.24547847 0.24164034 0.24333258 0.24287959 0.18750855 0.14784092\n",
      "  0.14180231 0.22075012 0.28460274 0.        ]\n",
      " [0.         0.         0.         0.         0.         0.\n",
      "  0.         0.         0.         0.         0.         0.\n",
      "  0.         0.21331772 0.24615064 0.22559537 0.23447005 0.24661839\n",
      "  0.25868808 0.2459747  0.2535186  0.25314211 0.25610924 0.25726649\n",
      "  0.25708875 0.27593765 0.21500556 0.        ]\n",
      " [0.         0.         0.         0.         0.         0.\n",
      "  0.         0.         0.         0.         0.         0.\n",
      "  0.         0.22497443 0.24943265 0.22768422 0.2239557  0.2141686\n",
      "  0.19814406 0.22972086 0.23767368 0.24059903 0.24353245 0.25959469\n",
      "  0.25363015 0.27368509 0.25104696 0.        ]\n",
      " [0.         0.         0.         0.         0.         0.\n",
      "  0.         0.         0.         0.00158012 0.00464404 0.\n",
      "  0.0163131  0.25528186 0.24068063 0.22141768 0.22921287 0.20767864\n",
      "  0.18603525 0.2459747  0.23541013 0.24858099 0.25610924 0.24678957\n",
      "  0.26054734 0.22187639 0.2597466  0.26870963]\n",
      " [0.         0.         0.         0.         0.         0.\n",
      "  0.         0.         0.         0.         0.00928807 0.\n",
      "  0.13458306 0.28442363 0.24286863 0.22977306 0.22921287 0.2195769\n",
      "  0.21795846 0.23947316 0.24333258 0.24287959 0.25382255 0.25610239\n",
      "  0.28245176 0.13402686 0.20754872 0.2893796 ]\n",
      " [0.         0.         0.         0.         0.         0.\n",
      "  0.         0.         0.         0.00632047 0.         0.\n",
      "  0.07476837 0.27509826 0.24943265 0.24021729 0.23972722 0.2595983\n",
      "  0.25538568 0.23080445 0.24672792 0.25428239 0.26754269 0.25261008\n",
      "  0.25017156 0.23539171 0.11433822 0.        ]\n",
      " [0.         0.         0.00196864 0.00743066 0.01073107 0.01210602\n",
      "  0.00340005 0.         0.         0.         0.         0.\n",
      "  0.3221837  0.26344156 0.23739862 0.23290633 0.23341861 0.23688345\n",
      "  0.24437767 0.23947316 0.24446436 0.25428239 0.26182596 0.25028188\n",
      "  0.25132443 0.28720041 0.09569612 0.        ]\n",
      " [0.         0.00677527 0.         0.         0.         0.\n",
      "  0.         0.         0.         0.09796732 0.2244617  0.30197776\n",
      "  0.30994887 0.24129382 0.23302261 0.23081749 0.22921287 0.2249852\n",
      "  0.23226887 0.2362224  0.2535186  0.25428239 0.25039252 0.25028188\n",
      "  0.25824161 0.27481137 0.19760627 0.        ]\n",
      " [0.         0.         0.         0.         0.0321932  0.07609496\n",
      "  0.13940217 0.17644206 0.29930777 0.36026691 0.34056258 0.32862285\n",
      "  0.2949952  0.26344156 0.21880057 0.21410672 0.22185283 0.24878171\n",
      "  0.24657927 0.25355982 0.19919318 0.2143726  0.28583621 0.28869724\n",
      "  0.26861739 0.26805371 0.26720344 0.        ]\n",
      " [0.         0.12873017 0.36813591 0.38639423 0.40062647 0.38220425\n",
      "  0.38080592 0.34299018 0.32306235 0.33814525 0.32198644 0.30937917\n",
      "  0.27188498 0.18534163 0.2680307  0.20157364 0.21659565 0.24121009\n",
      "  0.28070408 0.27631519 0.25012326 0.26682547 0.25267921 0.24562547\n",
      "  0.25363015 0.26129606 0.30573045 0.        ]\n",
      " [0.02264812 0.45620167 0.44885021 0.41611686 0.39526094 0.36490994\n",
      "  0.35870558 0.35288412 0.32464599 0.32392419 0.3173424  0.32566229\n",
      "  0.32626197 0.09325365 0.16410043 0.26632787 0.24077866 0.23904677\n",
      "  0.20695046 0.1668727  0.21616988 0.23945875 0.23324234 0.24329727\n",
      "  0.25593588 0.25679095 0.27963151 0.        ]\n",
      " [0.73983865 0.52621282 0.38979097 0.39010956 0.39704945 0.39603969\n",
      "  0.38930605 0.38586395 0.39432611 0.34762596 0.30031428 0.31826087\n",
      "  0.2949952  0.28092662 0.07111019 0.07624288 0.11145213 0.12655417\n",
      "  0.18493445 0.23730599 0.25012326 0.24516015 0.24810583 0.25959469\n",
      "  0.25708875 0.25228585 0.28460274 0.14985729]\n",
      " [0.56620305 0.46071852 0.41735195 0.37896357 0.34518263 0.35453335\n",
      "  0.35870558 0.37102303 0.34206602 0.29232183 0.30495831 0.30493832\n",
      "  0.26916613 0.24828784 0.26256069 0.20366249 0.23867579 0.2650066\n",
      "  0.26309128 0.24164034 0.24672792 0.24173931 0.23895907 0.25843059\n",
      "  0.25363015 0.24890702 0.28584554 0.34622202]\n",
      " [0.36236995 0.45846009 0.36026135 0.36038692 0.38095285 0.3406979\n",
      "  0.31450489 0.31330833 0.30722596 0.30338266 0.31269837 0.31678059\n",
      "  0.29771405 0.2576132  0.24068063 0.24648383 0.23657292 0.23363847\n",
      "  0.21905926 0.22321933 0.21051098 0.20639064 0.20237203 0.2002255\n",
      "  0.20866844 0.2308866  0.25601818 0.59426168]\n",
      " [0.         0.27552774 0.43113243 0.35852926 0.32014347 0.2957327\n",
      "  0.31110484 0.32320228 0.32306235 0.33182478 0.3297265  0.30641861\n",
      "  0.28683865 0.24479083 0.21880057 0.20470691 0.20397843 0.20659698\n",
      "  0.21465606 0.2069655  0.22409233 0.21893371 0.20122869 0.18159987\n",
      "  0.19252834 0.19935087 0.26098941 0.47540935]\n",
      " [0.         0.         0.14567945 0.3510986  0.37916434 0.33032132\n",
      "  0.29750463 0.28362649 0.27713682 0.28600136 0.28638217 0.27829323\n",
      "  0.2569313  0.21914607 0.21114255 0.20679576 0.21449278 0.22606686\n",
      "  0.23116807 0.22755369 0.23880546 0.2143726  0.21494883 0.22583574\n",
      "  0.22134995 0.24327564 0.21127714 0.        ]\n",
      " [0.01509875 0.         0.         0.         0.11804173 0.34588619\n",
      "  0.37740587 0.39081092 0.37848972 0.38238856 0.38081089 0.3597088\n",
      "  0.33169967 0.2576132  0.24068063 0.20157364 0.20082412 0.19361707\n",
      "  0.20034566 0.19721319 0.20485208 0.20068924 0.18979524 0.1955691\n",
      "  0.11413357 0.06532401 0.         0.        ]\n",
      " [0.         0.         0.         0.         0.         0.\n",
      "  0.         0.06595965 0.09660198 0.06952519 0.11145684 0.06069161\n",
      "  0.04757987 0.         0.         0.         0.         0.\n",
      "  0.         0.         0.         0.         0.         0.\n",
      "  0.         0.         0.         0.        ]\n",
      " [0.         0.         0.         0.         0.         0.\n",
      "  0.         0.         0.         0.         0.         0.\n",
      "  0.         0.         0.         0.         0.         0.\n",
      "  0.         0.         0.         0.         0.         0.\n",
      "  0.         0.         0.         0.        ]\n",
      " [0.         0.         0.         0.         0.         0.\n",
      "  0.         0.         0.         0.         0.         0.\n",
      "  0.         0.         0.         0.         0.         0.\n",
      "  0.         0.         0.         0.         0.         0.\n",
      "  0.         0.         0.         0.        ]]\n"
     ]
    }
   ],
   "source": [
    "import matplotlib.pyplot as plt\n",
    "\n",
    "plt.imshow(x_train[0], cmap = plt.cm.binary)\n",
    "plt.show()\n",
    "\n",
    "print(x_train[0])"
   ]
  },
  {
   "cell_type": "code",
   "execution_count": 20,
   "id": "cd0d73b4",
   "metadata": {},
   "outputs": [
    {
     "name": "stdout",
     "output_type": "stream",
     "text": [
      "INFO:tensorflow:Assets written to: FashionGuess.model\\assets\n",
      "[[1.31885417e-05 4.66706283e-08 7.09569076e-06 ... 1.37714241e-02\n",
      "  4.74771441e-05 9.83453870e-01]\n",
      " [4.35023307e-04 1.04239632e-07 9.69959021e-01 ... 9.48623491e-09\n",
      "  9.60695343e-06 1.58267432e-09]\n",
      " [1.18624754e-04 9.99490499e-01 3.75545756e-06 ... 1.91040161e-08\n",
      "  6.06488129e-07 4.50849598e-08]\n",
      " ...\n",
      " [2.37056942e-04 1.48018501e-07 2.47120654e-04 ... 2.36161554e-06\n",
      "  9.97963786e-01 9.19300973e-08]\n",
      " [1.34626216e-05 9.99225736e-01 3.87619593e-06 ... 5.08877207e-08\n",
      "  7.53927054e-07 1.60421948e-07]\n",
      " [4.88131218e-06 4.31739323e-07 2.12262239e-06 ... 4.48326953e-03\n",
      "  5.92491007e-04 5.86195574e-06]]\n"
     ]
    }
   ],
   "source": [
    "#Saving the model\n",
    "model.save('FashionGuess.model')\n",
    "\n",
    "#Reload model\n",
    "tmpModel = tf.keras.models.load_model('FashionGuess.model')\n",
    "\n",
    "#predictions\n",
    "predictions = tmpModel.predict([x_test])\n",
    "\n",
    "#output probabilty distribution\n",
    "print(predictions)"
   ]
  },
  {
   "cell_type": "code",
   "execution_count": 18,
   "id": "7a4c7329",
   "metadata": {},
   "outputs": [
    {
     "name": "stdout",
     "output_type": "stream",
     "text": [
      "5\n"
     ]
    }
   ],
   "source": [
    "#Label Description\n",
    "#0 T-shirt/top\n",
    "#1 Trouser\n",
    "#2 Pullover\n",
    "#3Dress\n",
    "#4 Coat\n",
    "#5 Sandal\n",
    "#6 Shirt\n",
    "#7 Sneaker\n",
    "#8 Bag\n",
    "#9 Ankle boot\n",
    "import numpy as np\n",
    "\n",
    "#Checking output\n",
    "print(np.argmax(predictions[11]))"
   ]
  },
  {
   "cell_type": "code",
   "execution_count": 19,
   "id": "7433ff4f",
   "metadata": {},
   "outputs": [
    {
     "data": {
      "image/png": "[encoded data removed]",
      "text/plain": [
       "<Figure size 432x288 with 1 Axes>"
      ]
     },
     "metadata": {
      "needs_background": "light"
     },
     "output_type": "display_data"
    }
   ],
   "source": [
    "plt.imshow(x_test[11])\n",
    "plt.show()"
   ]
  },
  {
   "cell_type": "code",
   "execution_count": null,
   "id": "f09cf388",
   "metadata": {},
   "outputs": [],
   "source": []
  }
 ],
 "metadata": {
  "kernelspec": {
   "display_name": "Python 3",
   "language": "python",
   "name": "python3"
  },
  "language_info": {
   "codemirror_mode": {
    "name": "ipython",
    "version": 3
   },
   "file_extension": ".py",
   "mimetype": "text/x-python",
   "name": "python",
   "nbconvert_exporter": "python",
   "pygments_lexer": "ipython3",
   "version": "3.6.13"
  }
 },
 "nbformat": 4,
 "nbformat_minor": 5
}
