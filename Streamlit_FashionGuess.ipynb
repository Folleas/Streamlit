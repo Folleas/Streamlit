{
 "cells": [
  {
   "cell_type": "code",
   "execution_count": null,
   "id": "8b5aa6a2",
   "metadata": {},
   "outputs": [],
   "source": [
    "!pip install streamlit --quiet\n",
    "!pip install pyngrok==4.1.1 --quiet\n",
    "!pip install streamlit-drawable-canvas --quiet\n",
    "from pyngrok import ngrok"
   ]
  },
  {
   "cell_type": "code",
   "execution_count": null,
   "id": "ef27bb7d",
   "metadata": {},
   "outputs": [],
   "source": [
    "%%writefile app.py\n",
    "import streamlit as st\n",
    "from streamlit_drawable_canvas import st_canvas\n",
    "from tensorflow import keras\n",
    "import cv2\n",
    "import numpy as np\n",
    "model_new = keras.models.load_model('./FashionGuess.model')\n",
    "\n",
    "st.title(\"Fashion-MNIST Recognizer\")\n",
    "\n",
    "SIZE = 192\n",
    "\n",
    "uploaded_file = st.file_uploader(\"Choose a file\")\n",
    "if uploaded_file is not None:\n",
    "     # To read file as bytes:\n",
    "     bytes_data = uploaded_file.getvalue()\n",
    "     st.write(bytes_data)\n",
    "\n",
    "     # To convert to a string based IO:\n",
    "     stringio = StringIO(uploaded_file.getvalue().decode(\"utf-8\"))\n",
    "     st.write(stringio)\n",
    "\n",
    "     # To read file as string:\n",
    "     string_data = stringio.read()\n",
    "     st.write(string_data)\n",
    "\n",
    "     # Can be used wherever a \"file-like\" object is accepted:\n",
    "     dataframe = pd.read_csv(uploaded_file)\n",
    "     st.write(dataframe)\n",
    "\n",
    "if st.button('Predict'):\n",
    "    test_x = cv2.cvtColor(img, cv2.COLOR_BGR2GRAY)\n",
    "    pred = model_new.predict(test_x.reshape(1, 28, 28, 1))\n",
    "    st.write(f'result: {np.argmax(pred[0])}')\n",
    "    st.bar_chart(pred[0])\n"
   ]
  },
  {
   "cell_type": "code",
   "execution_count": null,
   "id": "551d3f86",
   "metadata": {},
   "outputs": [],
   "source": [
    "!nohup streamlit run app.py &\n",
    "url = ngrok.connect(port='8501')\n",
    "print(url)"
   ]
  }
 ],
 "metadata": {
  "kernelspec": {
   "display_name": "Python 3",
   "language": "python",
   "name": "python3"
  },
  "language_info": {
   "codemirror_mode": {
    "name": "ipython",
    "version": 3
   },
   "file_extension": ".py",
   "mimetype": "text/x-python",
   "name": "python",
   "nbconvert_exporter": "python",
   "pygments_lexer": "ipython3",
   "version": "3.6.13"
  }
 },
 "nbformat": 4,
 "nbformat_minor": 5
}
